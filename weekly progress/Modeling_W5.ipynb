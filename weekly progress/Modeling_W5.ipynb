{
 "cells": [
  {
   "cell_type": "code",
   "execution_count": 1,
   "metadata": {},
   "outputs": [],
   "source": [
    "import pandas as pd\n",
    "import numpy as np\n",
    "import matplotlib.pyplot as plt"
   ]
  },
  {
   "cell_type": "markdown",
   "metadata": {},
   "source": [
    "# Modeling \n",
    "\n",
    "1. Give \"Top Tier User Scores\" \n",
    "2. Model Linear Regression Model \n",
    "3. Four Actionable Items "
   ]
  },
  {
   "cell_type": "markdown",
   "metadata": {},
   "source": [
    "## Features \n",
    "\n",
    "1. Percentage of Total Views within last week \n",
    "2. Complete and Mature Profile (complete profile and has pitch deck)\n",
    "3. Metric Card User \n",
    "4. Active within past 30 days \n",
    "\n",
    "Other features \n",
    "1. Days from signup to last update \n",
    "2. amount raised  "
   ]
  },
  {
   "cell_type": "markdown",
   "metadata": {},
   "source": [
    "## Our Data"
   ]
  },
  {
   "cell_type": "code",
   "execution_count": 5,
   "metadata": {},
   "outputs": [],
   "source": [
    "op_analytics = pd.read_csv(\"onepager_analytics.csv\") #percentage total views \n",
    "founders = pd.read_csv(\"founders.csv\") #complete/mature\n",
    "op_founders = pd.read_csv(\"onepager_founders.csv\") #complete/mature\n",
    "onepager = pd.read_csv(\"onepagers.csv\") #complete/mature \n",
    "traction = pd.read_csv(\"onepager_traction_and_performance.csv\") #metric card "
   ]
  },
  {
   "cell_type": "markdown",
   "metadata": {},
   "source": [
    "### 1. Percentage of Total Views "
   ]
  },
  {
   "cell_type": "code",
   "execution_count": 6,
   "metadata": {},
   "outputs": [
    {
     "data": {
      "text/html": [
       "<div>\n",
       "<style scoped>\n",
       "    .dataframe tbody tr th:only-of-type {\n",
       "        vertical-align: middle;\n",
       "    }\n",
       "\n",
       "    .dataframe tbody tr th {\n",
       "        vertical-align: top;\n",
       "    }\n",
       "\n",
       "    .dataframe thead th {\n",
       "        text-align: right;\n",
       "    }\n",
       "</style>\n",
       "<table border=\"1\" class=\"dataframe\">\n",
       "  <thead>\n",
       "    <tr style=\"text-align: right;\">\n",
       "      <th></th>\n",
       "      <th>uuid</th>\n",
       "      <th>onepager_uuid</th>\n",
       "      <th>fetch_date</th>\n",
       "      <th>total_views</th>\n",
       "      <th>unique_views</th>\n",
       "      <th>bounce_rate</th>\n",
       "      <th>created_at</th>\n",
       "      <th>updated_at</th>\n",
       "    </tr>\n",
       "  </thead>\n",
       "  <tbody>\n",
       "    <tr>\n",
       "      <th>0</th>\n",
       "      <td>00012682-0e23-4efe-8a4b-8ab30115844c</td>\n",
       "      <td>01ac3f85-0549-4cde-b57c-8ba7ba62c006</td>\n",
       "      <td>2021-03-09 00:00:00</td>\n",
       "      <td>0</td>\n",
       "      <td>0</td>\n",
       "      <td>0.0</td>\n",
       "      <td>2021-03-09 08:52:30</td>\n",
       "      <td>2021-03-20 09:00:06</td>\n",
       "    </tr>\n",
       "    <tr>\n",
       "      <th>1</th>\n",
       "      <td>00028bff-80cb-4116-9603-a59bb6b1edf8</td>\n",
       "      <td>c4dcf7f9-e88a-4738-94c0-a203e6101df0</td>\n",
       "      <td>2020-11-13 00:00:00</td>\n",
       "      <td>4</td>\n",
       "      <td>3</td>\n",
       "      <td>0.0</td>\n",
       "      <td>2020-11-13 08:52:56</td>\n",
       "      <td>2021-01-18 09:27:07</td>\n",
       "    </tr>\n",
       "    <tr>\n",
       "      <th>2</th>\n",
       "      <td>00028dd5-75ff-4d9a-bc3d-6f53e1ac6ed9</td>\n",
       "      <td>fda32462-2923-4965-88b6-9cb5394f4225</td>\n",
       "      <td>2020-11-20 00:00:00</td>\n",
       "      <td>0</td>\n",
       "      <td>0</td>\n",
       "      <td>0.0</td>\n",
       "      <td>2020-11-20 10:55:05</td>\n",
       "      <td>2021-01-01 12:55:44</td>\n",
       "    </tr>\n",
       "    <tr>\n",
       "      <th>3</th>\n",
       "      <td>00036a27-ef92-4f88-98ce-cdd90e7ed009</td>\n",
       "      <td>4dcbf3df-f55e-46ad-902c-f05bbf7926b0</td>\n",
       "      <td>2021-02-20 00:00:00</td>\n",
       "      <td>0</td>\n",
       "      <td>0</td>\n",
       "      <td>0.0</td>\n",
       "      <td>2021-02-20 08:52:59</td>\n",
       "      <td>2021-03-20 09:17:13</td>\n",
       "    </tr>\n",
       "    <tr>\n",
       "      <th>4</th>\n",
       "      <td>0004b827-0fda-4459-97b1-3fc61ff29d54</td>\n",
       "      <td>77690cf9-3292-4424-a1db-5e9f229f8af6</td>\n",
       "      <td>2020-11-04 00:00:00</td>\n",
       "      <td>0</td>\n",
       "      <td>0</td>\n",
       "      <td>0.0</td>\n",
       "      <td>2020-11-04 08:52:35</td>\n",
       "      <td>2021-01-29 09:25:35</td>\n",
       "    </tr>\n",
       "  </tbody>\n",
       "</table>\n",
       "</div>"
      ],
      "text/plain": [
       "                                   uuid                         onepager_uuid  \\\n",
       "0  00012682-0e23-4efe-8a4b-8ab30115844c  01ac3f85-0549-4cde-b57c-8ba7ba62c006   \n",
       "1  00028bff-80cb-4116-9603-a59bb6b1edf8  c4dcf7f9-e88a-4738-94c0-a203e6101df0   \n",
       "2  00028dd5-75ff-4d9a-bc3d-6f53e1ac6ed9  fda32462-2923-4965-88b6-9cb5394f4225   \n",
       "3  00036a27-ef92-4f88-98ce-cdd90e7ed009  4dcbf3df-f55e-46ad-902c-f05bbf7926b0   \n",
       "4  0004b827-0fda-4459-97b1-3fc61ff29d54  77690cf9-3292-4424-a1db-5e9f229f8af6   \n",
       "\n",
       "            fetch_date  total_views  unique_views  bounce_rate  \\\n",
       "0  2021-03-09 00:00:00            0             0          0.0   \n",
       "1  2020-11-13 00:00:00            4             3          0.0   \n",
       "2  2020-11-20 00:00:00            0             0          0.0   \n",
       "3  2021-02-20 00:00:00            0             0          0.0   \n",
       "4  2020-11-04 00:00:00            0             0          0.0   \n",
       "\n",
       "            created_at           updated_at  \n",
       "0  2021-03-09 08:52:30  2021-03-20 09:00:06  \n",
       "1  2020-11-13 08:52:56  2021-01-18 09:27:07  \n",
       "2  2020-11-20 10:55:05  2021-01-01 12:55:44  \n",
       "3  2021-02-20 08:52:59  2021-03-20 09:17:13  \n",
       "4  2020-11-04 08:52:35  2021-01-29 09:25:35  "
      ]
     },
     "execution_count": 6,
     "metadata": {},
     "output_type": "execute_result"
    }
   ],
   "source": [
    "# 844 unique onepagers, but over 60000 interactions \n",
    "op_analytics.head()"
   ]
  },
  {
   "cell_type": "code",
   "execution_count": 7,
   "metadata": {},
   "outputs": [
    {
     "name": "stderr",
     "output_type": "stream",
     "text": [
      "<ipython-input-7-166bd1601399>:9: SettingWithCopyWarning: \n",
      "A value is trying to be set on a copy of a slice from a DataFrame.\n",
      "Try using .loc[row_indexer,col_indexer] = value instead\n",
      "\n",
      "See the caveats in the documentation: https://pandas.pydata.org/pandas-docs/stable/user_guide/indexing.html#returning-a-view-versus-a-copy\n",
      "  filtered['percentage_total'] = filtered[['total_views']]/total_views\n"
     ]
    }
   ],
   "source": [
    "# merging and cleaning \n",
    "pct_ttl_views = op_analytics.sort_values(\"total_views\", ascending = False)\n",
    "pct_ttl_views = pd.merge(pct_ttl_views, op_founders, how = \"left\", left_on = \"onepager_uuid\", right_on = \"onepager_uuid\")\n",
    "pct_ttl_views = pct_ttl_views[[\"founder_uuid\", \"onepager_uuid\", \"total_views\", \"bounce_rate\"]]\n",
    "\n",
    "# filtering and manipulation \n",
    "filtered = pct_ttl_views[(pct_ttl_views['bounce_rate']<100) & (pct_ttl_views['bounce_rate']>0)]\n",
    "total_views = sum(filtered['total_views'])\n",
    "filtered['percentage_total'] = filtered[['total_views']]/total_views\n",
    "filtered = filtered[[\"founder_uuid\", \"percentage_total\"]]\n",
    "filtered = filtered.groupby(\"founder_uuid\").sum().reset_index()\n",
    "#filtered"
   ]
  },
  {
   "cell_type": "markdown",
   "metadata": {},
   "source": [
    "**Improvement for this week:** Look into percentage total views for the **past week**! That way we account for the recency factor of what defines \"top tier user\" "
   ]
  },
  {
   "cell_type": "markdown",
   "metadata": {},
   "source": [
    "### 2. Complete and Mature Profile"
   ]
  },
  {
   "cell_type": "code",
   "execution_count": 8,
   "metadata": {},
   "outputs": [],
   "source": [
    "# left join founders and op_founders \n",
    "founder_onepager = pd.merge(founders, op_founders, how = \"left\", left_on = \"uuid\", right_on = \"founder_uuid\").drop(columns = {\"founder_uuid\",\"created_at_y\", \"updated_at_y\"})"
   ]
  },
  {
   "cell_type": "code",
   "execution_count": 9,
   "metadata": {},
   "outputs": [
    {
     "name": "stdout",
     "output_type": "stream",
     "text": [
      "Founders with complete profiles:  2046\n",
      "Founders with pitch decks:  1769\n"
     ]
    },
    {
     "data": {
      "text/html": [
       "<div>\n",
       "<style scoped>\n",
       "    .dataframe tbody tr th:only-of-type {\n",
       "        vertical-align: middle;\n",
       "    }\n",
       "\n",
       "    .dataframe tbody tr th {\n",
       "        vertical-align: top;\n",
       "    }\n",
       "\n",
       "    .dataframe thead th {\n",
       "        text-align: right;\n",
       "    }\n",
       "</style>\n",
       "<table border=\"1\" class=\"dataframe\">\n",
       "  <thead>\n",
       "    <tr style=\"text-align: right;\">\n",
       "      <th></th>\n",
       "      <th>uuid</th>\n",
       "      <th>complete and mature</th>\n",
       "    </tr>\n",
       "  </thead>\n",
       "  <tbody>\n",
       "    <tr>\n",
       "      <th>0</th>\n",
       "      <td>0011279a-0c95-4f3d-8ae0-a0916fe54afd</td>\n",
       "      <td>False</td>\n",
       "    </tr>\n",
       "    <tr>\n",
       "      <th>1</th>\n",
       "      <td>0014bb20-d843-42f5-8af4-d30de649e1f9</td>\n",
       "      <td>True</td>\n",
       "    </tr>\n",
       "    <tr>\n",
       "      <th>2</th>\n",
       "      <td>0026b115-ef03-4a6d-a474-cc6e98672232</td>\n",
       "      <td>False</td>\n",
       "    </tr>\n",
       "    <tr>\n",
       "      <th>3</th>\n",
       "      <td>004a3eee-e647-4495-bc42-a7e588acb32d</td>\n",
       "      <td>True</td>\n",
       "    </tr>\n",
       "    <tr>\n",
       "      <th>4</th>\n",
       "      <td>004d7015-53dd-4f0d-81f6-a33e53ee537c</td>\n",
       "      <td>False</td>\n",
       "    </tr>\n",
       "  </tbody>\n",
       "</table>\n",
       "</div>"
      ],
      "text/plain": [
       "                                   uuid  complete and mature\n",
       "0  0011279a-0c95-4f3d-8ae0-a0916fe54afd                False\n",
       "1  0014bb20-d843-42f5-8af4-d30de649e1f9                 True\n",
       "2  0026b115-ef03-4a6d-a474-cc6e98672232                False\n",
       "3  004a3eee-e647-4495-bc42-a7e588acb32d                 True\n",
       "4  004d7015-53dd-4f0d-81f6-a33e53ee537c                False"
      ]
     },
     "execution_count": 9,
     "metadata": {},
     "output_type": "execute_result"
    }
   ],
   "source": [
    "complete_profiles = founders.copy().dropna()[\"uuid\"] #profile all completed\n",
    "founder_onepager[\"has complete profile\"] = founder_onepager[\"uuid\"].isin(complete_profiles.tolist())\n",
    "print(\"Founders with complete profiles: \", len(complete_profiles))\n",
    "\n",
    "mature_profiles = onepager.copy().dropna(subset = [\"pdf_filename\"]) #pitch deck\n",
    "mature_profiles = pd.merge(mature_profiles, op_founders, how = \"left\", left_on = \"uuid\", right_on = \"onepager_uuid\")[\"founder_uuid\"]\n",
    "founder_onepager[\"has mature onepager\"] = founder_onepager[\"uuid\"].isin(mature_profiles.tolist())\n",
    "print(\"Founders with pitch decks: \", len(mature_profiles))\n",
    "\n",
    "founder_onepager[\"complete and mature\"] = (founder_onepager['has complete profile'] == True) & (founder_onepager['has mature onepager'] == True)\n",
    "filtered_2 = founder_onepager[[\"uuid\", \"complete and mature\"]]\n",
    "filtered_2.head()"
   ]
  },
  {
   "cell_type": "code",
   "execution_count": 10,
   "metadata": {},
   "outputs": [
    {
     "data": {
      "text/html": [
       "<div>\n",
       "<style scoped>\n",
       "    .dataframe tbody tr th:only-of-type {\n",
       "        vertical-align: middle;\n",
       "    }\n",
       "\n",
       "    .dataframe tbody tr th {\n",
       "        vertical-align: top;\n",
       "    }\n",
       "\n",
       "    .dataframe thead th {\n",
       "        text-align: right;\n",
       "    }\n",
       "</style>\n",
       "<table border=\"1\" class=\"dataframe\">\n",
       "  <thead>\n",
       "    <tr style=\"text-align: right;\">\n",
       "      <th></th>\n",
       "      <th>uuid</th>\n",
       "      <th>complete and mature</th>\n",
       "      <th>percentage_total</th>\n",
       "    </tr>\n",
       "  </thead>\n",
       "  <tbody>\n",
       "    <tr>\n",
       "      <th>0</th>\n",
       "      <td>0011279a-0c95-4f3d-8ae0-a0916fe54afd</td>\n",
       "      <td>False</td>\n",
       "      <td>0.000000</td>\n",
       "    </tr>\n",
       "    <tr>\n",
       "      <th>1</th>\n",
       "      <td>0014bb20-d843-42f5-8af4-d30de649e1f9</td>\n",
       "      <td>True</td>\n",
       "      <td>0.000000</td>\n",
       "    </tr>\n",
       "    <tr>\n",
       "      <th>2</th>\n",
       "      <td>0026b115-ef03-4a6d-a474-cc6e98672232</td>\n",
       "      <td>False</td>\n",
       "      <td>0.000000</td>\n",
       "    </tr>\n",
       "    <tr>\n",
       "      <th>3</th>\n",
       "      <td>004a3eee-e647-4495-bc42-a7e588acb32d</td>\n",
       "      <td>True</td>\n",
       "      <td>0.000788</td>\n",
       "    </tr>\n",
       "    <tr>\n",
       "      <th>4</th>\n",
       "      <td>004d7015-53dd-4f0d-81f6-a33e53ee537c</td>\n",
       "      <td>False</td>\n",
       "      <td>0.000000</td>\n",
       "    </tr>\n",
       "  </tbody>\n",
       "</table>\n",
       "</div>"
      ],
      "text/plain": [
       "                                   uuid  complete and mature  percentage_total\n",
       "0  0011279a-0c95-4f3d-8ae0-a0916fe54afd                False          0.000000\n",
       "1  0014bb20-d843-42f5-8af4-d30de649e1f9                 True          0.000000\n",
       "2  0026b115-ef03-4a6d-a474-cc6e98672232                False          0.000000\n",
       "3  004a3eee-e647-4495-bc42-a7e588acb32d                 True          0.000788\n",
       "4  004d7015-53dd-4f0d-81f6-a33e53ee537c                False          0.000000"
      ]
     },
     "execution_count": 10,
     "metadata": {},
     "output_type": "execute_result"
    }
   ],
   "source": [
    "#merging \"percentage view\" with \"complete and mature\"\n",
    "final = pd.merge(filtered_2, filtered, how = \"outer\", left_on = \"uuid\", right_on = \"founder_uuid\").drop(columns = {\"founder_uuid\"}).fillna(0)\n",
    "final.head()"
   ]
  },
  {
   "cell_type": "markdown",
   "metadata": {},
   "source": [
    "### 3. Metric Card User"
   ]
  },
  {
   "cell_type": "code",
   "execution_count": 11,
   "metadata": {
    "scrolled": true
   },
   "outputs": [
    {
     "data": {
      "text/html": [
       "<div>\n",
       "<style scoped>\n",
       "    .dataframe tbody tr th:only-of-type {\n",
       "        vertical-align: middle;\n",
       "    }\n",
       "\n",
       "    .dataframe tbody tr th {\n",
       "        vertical-align: top;\n",
       "    }\n",
       "\n",
       "    .dataframe thead th {\n",
       "        text-align: right;\n",
       "    }\n",
       "</style>\n",
       "<table border=\"1\" class=\"dataframe\">\n",
       "  <thead>\n",
       "    <tr style=\"text-align: right;\">\n",
       "      <th></th>\n",
       "      <th>uuid</th>\n",
       "      <th>onepager_uuid</th>\n",
       "      <th>acronym</th>\n",
       "      <th>parent_metric</th>\n",
       "      <th>sub_metric</th>\n",
       "      <th>time_period</th>\n",
       "      <th>metric_value</th>\n",
       "      <th>prefix</th>\n",
       "      <th>suffix</th>\n",
       "      <th>order</th>\n",
       "      <th>created_at</th>\n",
       "      <th>updated_at</th>\n",
       "    </tr>\n",
       "  </thead>\n",
       "  <tbody>\n",
       "    <tr>\n",
       "      <th>0</th>\n",
       "      <td>01dc18cc-fc13-47c4-a4ab-0acb49bab331</td>\n",
       "      <td>2141b6b9-d0b0-4c0f-b8db-50dbe5c5069d</td>\n",
       "      <td>RTN</td>\n",
       "      <td>Revenue and Sales</td>\n",
       "      <td>Total Addressable Market</td>\n",
       "      <td>NaN</td>\n",
       "      <td>1.400000e+13</td>\n",
       "      <td>$</td>\n",
       "      <td>NaN</td>\n",
       "      <td>1</td>\n",
       "      <td>2021-02-27 03:53:57</td>\n",
       "      <td>2021-02-27 03:53:57</td>\n",
       "    </tr>\n",
       "    <tr>\n",
       "      <th>1</th>\n",
       "      <td>02940790-1992-4fcc-800d-fdbde2a06a7f</td>\n",
       "      <td>94f69d52-b733-40d5-932d-a91d7ecc382d</td>\n",
       "      <td>URM</td>\n",
       "      <td>Users</td>\n",
       "      <td>User Retention</td>\n",
       "      <td>per month</td>\n",
       "      <td>7.000000e+01</td>\n",
       "      <td>NaN</td>\n",
       "      <td>%</td>\n",
       "      <td>5</td>\n",
       "      <td>2021-02-21 21:17:24</td>\n",
       "      <td>2021-03-12 09:24:48</td>\n",
       "    </tr>\n",
       "    <tr>\n",
       "      <th>2</th>\n",
       "      <td>02b0505e-cc3b-4a23-9812-c59425013638</td>\n",
       "      <td>22f04020-b76b-45e0-a197-94c6aba7a71b</td>\n",
       "      <td>CNLM</td>\n",
       "      <td>Customer Value</td>\n",
       "      <td>Net Promoter Score</td>\n",
       "      <td>last month</td>\n",
       "      <td>9.800000e+00</td>\n",
       "      <td>NaN</td>\n",
       "      <td>NaN</td>\n",
       "      <td>1</td>\n",
       "      <td>2021-01-29 21:19:44</td>\n",
       "      <td>2021-01-29 21:20:59</td>\n",
       "    </tr>\n",
       "    <tr>\n",
       "      <th>3</th>\n",
       "      <td>02b0bb33-c899-4e2f-9149-daba45c22464</td>\n",
       "      <td>a079e0bd-7dc2-4cef-99c8-33d639ffa35d</td>\n",
       "      <td>URW</td>\n",
       "      <td>Users</td>\n",
       "      <td>User Retention</td>\n",
       "      <td>per week</td>\n",
       "      <td>9.100000e+00</td>\n",
       "      <td>NaN</td>\n",
       "      <td>%</td>\n",
       "      <td>2</td>\n",
       "      <td>2021-03-16 01:10:16</td>\n",
       "      <td>2021-03-19 06:34:43</td>\n",
       "    </tr>\n",
       "    <tr>\n",
       "      <th>4</th>\n",
       "      <td>03c5f718-a4e6-40e5-9d79-23f47ab21db0</td>\n",
       "      <td>5c6f9f14-9028-4d62-b8a8-6b16dee3f5e1</td>\n",
       "      <td>RRM</td>\n",
       "      <td>Revenue and Sales</td>\n",
       "      <td>Recurring Revenue</td>\n",
       "      <td>per month</td>\n",
       "      <td>4.200000e+03</td>\n",
       "      <td>$</td>\n",
       "      <td>NaN</td>\n",
       "      <td>1</td>\n",
       "      <td>2021-02-23 11:56:57</td>\n",
       "      <td>2021-03-02 15:01:13</td>\n",
       "    </tr>\n",
       "  </tbody>\n",
       "</table>\n",
       "</div>"
      ],
      "text/plain": [
       "                                   uuid                         onepager_uuid  \\\n",
       "0  01dc18cc-fc13-47c4-a4ab-0acb49bab331  2141b6b9-d0b0-4c0f-b8db-50dbe5c5069d   \n",
       "1  02940790-1992-4fcc-800d-fdbde2a06a7f  94f69d52-b733-40d5-932d-a91d7ecc382d   \n",
       "2  02b0505e-cc3b-4a23-9812-c59425013638  22f04020-b76b-45e0-a197-94c6aba7a71b   \n",
       "3  02b0bb33-c899-4e2f-9149-daba45c22464  a079e0bd-7dc2-4cef-99c8-33d639ffa35d   \n",
       "4  03c5f718-a4e6-40e5-9d79-23f47ab21db0  5c6f9f14-9028-4d62-b8a8-6b16dee3f5e1   \n",
       "\n",
       "  acronym      parent_metric                sub_metric time_period  \\\n",
       "0     RTN  Revenue and Sales  Total Addressable Market         NaN   \n",
       "1     URM              Users            User Retention   per month   \n",
       "2    CNLM     Customer Value        Net Promoter Score  last month   \n",
       "3     URW              Users            User Retention    per week   \n",
       "4     RRM  Revenue and Sales         Recurring Revenue   per month   \n",
       "\n",
       "   metric_value prefix suffix  order           created_at           updated_at  \n",
       "0  1.400000e+13      $    NaN      1  2021-02-27 03:53:57  2021-02-27 03:53:57  \n",
       "1  7.000000e+01    NaN      %      5  2021-02-21 21:17:24  2021-03-12 09:24:48  \n",
       "2  9.800000e+00    NaN    NaN      1  2021-01-29 21:19:44  2021-01-29 21:20:59  \n",
       "3  9.100000e+00    NaN      %      2  2021-03-16 01:10:16  2021-03-19 06:34:43  \n",
       "4  4.200000e+03      $    NaN      1  2021-02-23 11:56:57  2021-03-02 15:01:13  "
      ]
     },
     "execution_count": 11,
     "metadata": {},
     "output_type": "execute_result"
    }
   ],
   "source": [
    "traction.head()"
   ]
  },
  {
   "cell_type": "code",
   "execution_count": 12,
   "metadata": {},
   "outputs": [
    {
     "name": "stdout",
     "output_type": "stream",
     "text": [
      "number of metric card users: 343\n"
     ]
    }
   ],
   "source": [
    "# minimal data but better than last week with only 215 \n",
    "print(\"number of metric card users:\", traction.shape[0])"
   ]
  },
  {
   "cell_type": "code",
   "execution_count": 13,
   "metadata": {},
   "outputs": [
    {
     "data": {
      "text/html": [
       "<div>\n",
       "<style scoped>\n",
       "    .dataframe tbody tr th:only-of-type {\n",
       "        vertical-align: middle;\n",
       "    }\n",
       "\n",
       "    .dataframe tbody tr th {\n",
       "        vertical-align: top;\n",
       "    }\n",
       "\n",
       "    .dataframe thead th {\n",
       "        text-align: right;\n",
       "    }\n",
       "</style>\n",
       "<table border=\"1\" class=\"dataframe\">\n",
       "  <thead>\n",
       "    <tr style=\"text-align: right;\">\n",
       "      <th></th>\n",
       "      <th>uuid</th>\n",
       "      <th>has metric card</th>\n",
       "    </tr>\n",
       "  </thead>\n",
       "  <tbody>\n",
       "    <tr>\n",
       "      <th>0</th>\n",
       "      <td>0011279a-0c95-4f3d-8ae0-a0916fe54afd</td>\n",
       "      <td>False</td>\n",
       "    </tr>\n",
       "    <tr>\n",
       "      <th>1</th>\n",
       "      <td>0014bb20-d843-42f5-8af4-d30de649e1f9</td>\n",
       "      <td>False</td>\n",
       "    </tr>\n",
       "    <tr>\n",
       "      <th>2</th>\n",
       "      <td>0026b115-ef03-4a6d-a474-cc6e98672232</td>\n",
       "      <td>False</td>\n",
       "    </tr>\n",
       "    <tr>\n",
       "      <th>3</th>\n",
       "      <td>004a3eee-e647-4495-bc42-a7e588acb32d</td>\n",
       "      <td>False</td>\n",
       "    </tr>\n",
       "    <tr>\n",
       "      <th>4</th>\n",
       "      <td>004d7015-53dd-4f0d-81f6-a33e53ee537c</td>\n",
       "      <td>False</td>\n",
       "    </tr>\n",
       "  </tbody>\n",
       "</table>\n",
       "</div>"
      ],
      "text/plain": [
       "                                   uuid  has metric card\n",
       "0  0011279a-0c95-4f3d-8ae0-a0916fe54afd            False\n",
       "1  0014bb20-d843-42f5-8af4-d30de649e1f9            False\n",
       "2  0026b115-ef03-4a6d-a474-cc6e98672232            False\n",
       "3  004a3eee-e647-4495-bc42-a7e588acb32d            False\n",
       "4  004d7015-53dd-4f0d-81f6-a33e53ee537c            False"
      ]
     },
     "execution_count": 13,
     "metadata": {},
     "output_type": "execute_result"
    }
   ],
   "source": [
    "# after 2/17 w/ introduction of metrics card \n",
    "traction[\"created_at\"] = traction[\"created_at\"].str.extract(r'(\\d{4}-0(2|3)-\\d{2})')\n",
    "traction = traction.sort_values(\"created_at\", ascending = True)\n",
    "\n",
    "after_mcard = traction.dropna(subset = [\"created_at\"])\n",
    "founders_w_mcard = after_mcard[\"onepager_uuid\"]\n",
    "\n",
    "# added \"has metric card\" column to founder_onepager\n",
    "founder_onepager[\"has metric card\"] = founder_onepager[\"onepager_uuid\"].isin(founders_w_mcard.tolist())\n",
    "\n",
    "# made cleaned table filtered_3 \n",
    "filtered_3 = founder_onepager[[\"uuid\", \"has metric card\"]]\n",
    "filtered_3.head()"
   ]
  },
  {
   "cell_type": "code",
   "execution_count": 14,
   "metadata": {},
   "outputs": [
    {
     "data": {
      "text/html": [
       "<div>\n",
       "<style scoped>\n",
       "    .dataframe tbody tr th:only-of-type {\n",
       "        vertical-align: middle;\n",
       "    }\n",
       "\n",
       "    .dataframe tbody tr th {\n",
       "        vertical-align: top;\n",
       "    }\n",
       "\n",
       "    .dataframe thead th {\n",
       "        text-align: right;\n",
       "    }\n",
       "</style>\n",
       "<table border=\"1\" class=\"dataframe\">\n",
       "  <thead>\n",
       "    <tr style=\"text-align: right;\">\n",
       "      <th></th>\n",
       "      <th>uuid</th>\n",
       "      <th>complete and mature</th>\n",
       "      <th>percentage_total</th>\n",
       "      <th>has metric card</th>\n",
       "    </tr>\n",
       "  </thead>\n",
       "  <tbody>\n",
       "    <tr>\n",
       "      <th>0</th>\n",
       "      <td>0011279a-0c95-4f3d-8ae0-a0916fe54afd</td>\n",
       "      <td>False</td>\n",
       "      <td>0.000000</td>\n",
       "      <td>False</td>\n",
       "    </tr>\n",
       "    <tr>\n",
       "      <th>1</th>\n",
       "      <td>0014bb20-d843-42f5-8af4-d30de649e1f9</td>\n",
       "      <td>True</td>\n",
       "      <td>0.000000</td>\n",
       "      <td>False</td>\n",
       "    </tr>\n",
       "    <tr>\n",
       "      <th>2</th>\n",
       "      <td>0026b115-ef03-4a6d-a474-cc6e98672232</td>\n",
       "      <td>False</td>\n",
       "      <td>0.000000</td>\n",
       "      <td>False</td>\n",
       "    </tr>\n",
       "    <tr>\n",
       "      <th>3</th>\n",
       "      <td>004a3eee-e647-4495-bc42-a7e588acb32d</td>\n",
       "      <td>True</td>\n",
       "      <td>0.000788</td>\n",
       "      <td>False</td>\n",
       "    </tr>\n",
       "    <tr>\n",
       "      <th>4</th>\n",
       "      <td>004d7015-53dd-4f0d-81f6-a33e53ee537c</td>\n",
       "      <td>False</td>\n",
       "      <td>0.000000</td>\n",
       "      <td>False</td>\n",
       "    </tr>\n",
       "  </tbody>\n",
       "</table>\n",
       "</div>"
      ],
      "text/plain": [
       "                                   uuid  complete and mature  \\\n",
       "0  0011279a-0c95-4f3d-8ae0-a0916fe54afd                False   \n",
       "1  0014bb20-d843-42f5-8af4-d30de649e1f9                 True   \n",
       "2  0026b115-ef03-4a6d-a474-cc6e98672232                False   \n",
       "3  004a3eee-e647-4495-bc42-a7e588acb32d                 True   \n",
       "4  004d7015-53dd-4f0d-81f6-a33e53ee537c                False   \n",
       "\n",
       "   percentage_total  has metric card  \n",
       "0          0.000000            False  \n",
       "1          0.000000            False  \n",
       "2          0.000000            False  \n",
       "3          0.000788            False  \n",
       "4          0.000000            False  "
      ]
     },
     "execution_count": 14,
     "metadata": {},
     "output_type": "execute_result"
    }
   ],
   "source": [
    "# merging filtered_3 into final \n",
    "final = pd.merge(final, filtered_3, how = \"left\", left_on = \"uuid\", right_on = \"uuid\")\n",
    "final.head()"
   ]
  },
  {
   "cell_type": "markdown",
   "metadata": {},
   "source": [
    "### 4. Active within past week \n",
    "\n",
    "Active 3/10 - 3/20 "
   ]
  },
  {
   "cell_type": "code",
   "execution_count": 15,
   "metadata": {},
   "outputs": [
    {
     "name": "stdout",
     "output_type": "stream",
     "text": [
      "number of new users/recent updates: 814\n"
     ]
    }
   ],
   "source": [
    "# a lil bit of data cleaning first! keeping only data past 2/5\n",
    "founder_onepager = founder_onepager.rename(columns = {\"created_at_x\": \"created_at\", \"updated_at_x\": \"updated_at\"})\n",
    "founder_onepager[\"created_at\"] = founder_onepager[\"created_at\"].str.extract(r'(\\d{4}-\\d{2}-\\d{2})')\n",
    "founder_onepager[\"updated_at\"] = founder_onepager[\"updated_at\"].str.extract(r'(\\d{4}-\\d{2}-\\d{2})')\n",
    "\n",
    "recent_update = founder_onepager.copy() \n",
    "recent_update[\"updated_at\"] = recent_update[\"updated_at\"].str.extract(r'(\\d{4}-03-1\\d)')\n",
    "recent_update = recent_update.sort_values(\"updated_at\", ascending = False)\n",
    "recent_update = recent_update.dropna(subset = [\"updated_at\"])\n",
    "print(\"number of new users/recent updates:\", recent_update.shape[0])\n",
    "# #recent_update.head()"
   ]
  },
  {
   "cell_type": "code",
   "execution_count": 16,
   "metadata": {},
   "outputs": [
    {
     "name": "stdout",
     "output_type": "stream",
     "text": [
      "number of users who's creation and update are different: 494\n",
      "number of users who's creation and update are the same: 320\n"
     ]
    }
   ],
   "source": [
    "# filter out new users (defined to be those who created onepager on 3/5)\n",
    "new_user_index = sum([date == '2021-03-20' for date in recent_update[\"created_at\"].tolist()])\n",
    "recent_update = recent_update.iloc[new_user_index:]\n",
    "print(\"number of users who's creation and update are different:\", sum(recent_update[\"created_at\"] != recent_update[\"updated_at\"]))\n",
    "print(\"number of users who's creation and update are the same:\", sum(recent_update[\"created_at\"] == recent_update[\"updated_at\"]))"
   ]
  },
  {
   "cell_type": "code",
   "execution_count": 17,
   "metadata": {},
   "outputs": [
    {
     "data": {
      "text/html": [
       "<div>\n",
       "<style scoped>\n",
       "    .dataframe tbody tr th:only-of-type {\n",
       "        vertical-align: middle;\n",
       "    }\n",
       "\n",
       "    .dataframe tbody tr th {\n",
       "        vertical-align: top;\n",
       "    }\n",
       "\n",
       "    .dataframe thead th {\n",
       "        text-align: right;\n",
       "    }\n",
       "</style>\n",
       "<table border=\"1\" class=\"dataframe\">\n",
       "  <thead>\n",
       "    <tr style=\"text-align: right;\">\n",
       "      <th></th>\n",
       "      <th>uuid</th>\n",
       "      <th>updated past week</th>\n",
       "    </tr>\n",
       "  </thead>\n",
       "  <tbody>\n",
       "    <tr>\n",
       "      <th>0</th>\n",
       "      <td>0011279a-0c95-4f3d-8ae0-a0916fe54afd</td>\n",
       "      <td>False</td>\n",
       "    </tr>\n",
       "    <tr>\n",
       "      <th>1</th>\n",
       "      <td>0014bb20-d843-42f5-8af4-d30de649e1f9</td>\n",
       "      <td>False</td>\n",
       "    </tr>\n",
       "    <tr>\n",
       "      <th>2</th>\n",
       "      <td>0026b115-ef03-4a6d-a474-cc6e98672232</td>\n",
       "      <td>True</td>\n",
       "    </tr>\n",
       "    <tr>\n",
       "      <th>3</th>\n",
       "      <td>004a3eee-e647-4495-bc42-a7e588acb32d</td>\n",
       "      <td>False</td>\n",
       "    </tr>\n",
       "    <tr>\n",
       "      <th>4</th>\n",
       "      <td>004d7015-53dd-4f0d-81f6-a33e53ee537c</td>\n",
       "      <td>False</td>\n",
       "    </tr>\n",
       "  </tbody>\n",
       "</table>\n",
       "</div>"
      ],
      "text/plain": [
       "                                   uuid  updated past week\n",
       "0  0011279a-0c95-4f3d-8ae0-a0916fe54afd              False\n",
       "1  0014bb20-d843-42f5-8af4-d30de649e1f9              False\n",
       "2  0026b115-ef03-4a6d-a474-cc6e98672232               True\n",
       "3  004a3eee-e647-4495-bc42-a7e588acb32d              False\n",
       "4  004d7015-53dd-4f0d-81f6-a33e53ee537c              False"
      ]
     },
     "execution_count": 17,
     "metadata": {},
     "output_type": "execute_result"
    }
   ],
   "source": [
    "# made new table filtered_4\n",
    "founder_onepager[\"updated past week\"] = founder_onepager['uuid'].isin(recent_update[\"uuid\"])\n",
    "\n",
    "filtered_4 = founder_onepager[[\"uuid\", \"updated past week\"]]\n",
    "filtered_4.head()"
   ]
  },
  {
   "cell_type": "code",
   "execution_count": 18,
   "metadata": {},
   "outputs": [],
   "source": [
    "final = pd.merge(final, filtered_4, how = \"left\", left_on = \"uuid\", right_on = \"uuid\").drop(columns = \"uuid\")"
   ]
  },
  {
   "cell_type": "code",
   "execution_count": 19,
   "metadata": {},
   "outputs": [
    {
     "data": {
      "text/html": [
       "<div>\n",
       "<style scoped>\n",
       "    .dataframe tbody tr th:only-of-type {\n",
       "        vertical-align: middle;\n",
       "    }\n",
       "\n",
       "    .dataframe tbody tr th {\n",
       "        vertical-align: top;\n",
       "    }\n",
       "\n",
       "    .dataframe thead th {\n",
       "        text-align: right;\n",
       "    }\n",
       "</style>\n",
       "<table border=\"1\" class=\"dataframe\">\n",
       "  <thead>\n",
       "    <tr style=\"text-align: right;\">\n",
       "      <th></th>\n",
       "      <th>complete and mature</th>\n",
       "      <th>percentage_total</th>\n",
       "      <th>has metric card</th>\n",
       "      <th>updated past week</th>\n",
       "    </tr>\n",
       "  </thead>\n",
       "  <tbody>\n",
       "    <tr>\n",
       "      <th>0</th>\n",
       "      <td>False</td>\n",
       "      <td>0.000000</td>\n",
       "      <td>False</td>\n",
       "      <td>False</td>\n",
       "    </tr>\n",
       "    <tr>\n",
       "      <th>1</th>\n",
       "      <td>True</td>\n",
       "      <td>0.000000</td>\n",
       "      <td>False</td>\n",
       "      <td>False</td>\n",
       "    </tr>\n",
       "    <tr>\n",
       "      <th>2</th>\n",
       "      <td>False</td>\n",
       "      <td>0.000000</td>\n",
       "      <td>False</td>\n",
       "      <td>True</td>\n",
       "    </tr>\n",
       "    <tr>\n",
       "      <th>3</th>\n",
       "      <td>True</td>\n",
       "      <td>0.000788</td>\n",
       "      <td>False</td>\n",
       "      <td>False</td>\n",
       "    </tr>\n",
       "    <tr>\n",
       "      <th>4</th>\n",
       "      <td>False</td>\n",
       "      <td>0.000000</td>\n",
       "      <td>False</td>\n",
       "      <td>False</td>\n",
       "    </tr>\n",
       "    <tr>\n",
       "      <th>...</th>\n",
       "      <td>...</td>\n",
       "      <td>...</td>\n",
       "      <td>...</td>\n",
       "      <td>...</td>\n",
       "    </tr>\n",
       "    <tr>\n",
       "      <th>3337</th>\n",
       "      <td>True</td>\n",
       "      <td>0.000272</td>\n",
       "      <td>False</td>\n",
       "      <td>True</td>\n",
       "    </tr>\n",
       "    <tr>\n",
       "      <th>3338</th>\n",
       "      <td>True</td>\n",
       "      <td>0.001304</td>\n",
       "      <td>False</td>\n",
       "      <td>False</td>\n",
       "    </tr>\n",
       "    <tr>\n",
       "      <th>3339</th>\n",
       "      <td>True</td>\n",
       "      <td>0.000272</td>\n",
       "      <td>False</td>\n",
       "      <td>False</td>\n",
       "    </tr>\n",
       "    <tr>\n",
       "      <th>3340</th>\n",
       "      <td>False</td>\n",
       "      <td>0.000516</td>\n",
       "      <td>False</td>\n",
       "      <td>False</td>\n",
       "    </tr>\n",
       "    <tr>\n",
       "      <th>3341</th>\n",
       "      <td>True</td>\n",
       "      <td>0.000000</td>\n",
       "      <td>True</td>\n",
       "      <td>False</td>\n",
       "    </tr>\n",
       "  </tbody>\n",
       "</table>\n",
       "<p>3342 rows × 4 columns</p>\n",
       "</div>"
      ],
      "text/plain": [
       "      complete and mature  percentage_total  has metric card  \\\n",
       "0                   False          0.000000            False   \n",
       "1                    True          0.000000            False   \n",
       "2                   False          0.000000            False   \n",
       "3                    True          0.000788            False   \n",
       "4                   False          0.000000            False   \n",
       "...                   ...               ...              ...   \n",
       "3337                 True          0.000272            False   \n",
       "3338                 True          0.001304            False   \n",
       "3339                 True          0.000272            False   \n",
       "3340                False          0.000516            False   \n",
       "3341                 True          0.000000             True   \n",
       "\n",
       "      updated past week  \n",
       "0                 False  \n",
       "1                 False  \n",
       "2                  True  \n",
       "3                 False  \n",
       "4                 False  \n",
       "...                 ...  \n",
       "3337               True  \n",
       "3338              False  \n",
       "3339              False  \n",
       "3340              False  \n",
       "3341              False  \n",
       "\n",
       "[3342 rows x 4 columns]"
      ]
     },
     "execution_count": 19,
     "metadata": {},
     "output_type": "execute_result"
    }
   ],
   "source": [
    "final"
   ]
  },
  {
   "cell_type": "markdown",
   "metadata": {},
   "source": [
    "## Top Tier User Score \n",
    "\n",
    "gave arbitrary weights "
   ]
  },
  {
   "cell_type": "code",
   "execution_count": 64,
   "metadata": {},
   "outputs": [],
   "source": [
    "def scoring(df):\n",
    "    score = [0] * 3342 \n",
    "    w1 = 0.25\n",
    "    w2 = 0.05\n",
    "    w3 = 0.25\n",
    "    w4 = 0.45\n",
    "    \n",
    "    for row in np.arange(3342):\n",
    "        for col in np.arange(0,4):\n",
    "            if col == 0:\n",
    "                if df.iloc[row,col] == True:\n",
    "                    score[row] = score[row] + w1*1\n",
    "            if col == 1:\n",
    "                if df.iloc[row,col] > 0:\n",
    "                    score[row] = score[row] + w2*df.iloc[row,col]\n",
    "            if col == 2:\n",
    "                if df.iloc[row,col] == True:\n",
    "                    score[row] = score[row] + w3*1\n",
    "            if col == 3: \n",
    "                if df.iloc[row,col] == True: \n",
    "                    score[row] = score[row] = w4*1\n",
    "    return np.array(score)*100"
   ]
  },
  {
   "cell_type": "code",
   "execution_count": 65,
   "metadata": {},
   "outputs": [],
   "source": [
    "user_score = scoring(final)"
   ]
  },
  {
   "cell_type": "code",
   "execution_count": 66,
   "metadata": {},
   "outputs": [
    {
     "data": {
      "text/html": [
       "<div>\n",
       "<style scoped>\n",
       "    .dataframe tbody tr th:only-of-type {\n",
       "        vertical-align: middle;\n",
       "    }\n",
       "\n",
       "    .dataframe tbody tr th {\n",
       "        vertical-align: top;\n",
       "    }\n",
       "\n",
       "    .dataframe thead th {\n",
       "        text-align: right;\n",
       "    }\n",
       "</style>\n",
       "<table border=\"1\" class=\"dataframe\">\n",
       "  <thead>\n",
       "    <tr style=\"text-align: right;\">\n",
       "      <th></th>\n",
       "      <th>complete and mature</th>\n",
       "      <th>percentage_total</th>\n",
       "      <th>has metric card</th>\n",
       "      <th>updated past week</th>\n",
       "      <th>top tier user score</th>\n",
       "    </tr>\n",
       "  </thead>\n",
       "  <tbody>\n",
       "    <tr>\n",
       "      <th>2624</th>\n",
       "      <td>True</td>\n",
       "      <td>0.011468</td>\n",
       "      <td>True</td>\n",
       "      <td>False</td>\n",
       "      <td>50.057339</td>\n",
       "    </tr>\n",
       "    <tr>\n",
       "      <th>2131</th>\n",
       "      <td>True</td>\n",
       "      <td>0.011468</td>\n",
       "      <td>True</td>\n",
       "      <td>False</td>\n",
       "      <td>50.057339</td>\n",
       "    </tr>\n",
       "    <tr>\n",
       "      <th>2336</th>\n",
       "      <td>True</td>\n",
       "      <td>0.003913</td>\n",
       "      <td>True</td>\n",
       "      <td>False</td>\n",
       "      <td>50.019566</td>\n",
       "    </tr>\n",
       "    <tr>\n",
       "      <th>1680</th>\n",
       "      <td>True</td>\n",
       "      <td>0.003913</td>\n",
       "      <td>True</td>\n",
       "      <td>False</td>\n",
       "      <td>50.019566</td>\n",
       "    </tr>\n",
       "    <tr>\n",
       "      <th>2176</th>\n",
       "      <td>True</td>\n",
       "      <td>0.003913</td>\n",
       "      <td>True</td>\n",
       "      <td>False</td>\n",
       "      <td>50.019566</td>\n",
       "    </tr>\n",
       "  </tbody>\n",
       "</table>\n",
       "</div>"
      ],
      "text/plain": [
       "      complete and mature  percentage_total  has metric card  \\\n",
       "2624                 True          0.011468             True   \n",
       "2131                 True          0.011468             True   \n",
       "2336                 True          0.003913             True   \n",
       "1680                 True          0.003913             True   \n",
       "2176                 True          0.003913             True   \n",
       "\n",
       "      updated past week  top tier user score  \n",
       "2624              False            50.057339  \n",
       "2131              False            50.057339  \n",
       "2336              False            50.019566  \n",
       "1680              False            50.019566  \n",
       "2176              False            50.019566  "
      ]
     },
     "execution_count": 66,
     "metadata": {},
     "output_type": "execute_result"
    }
   ],
   "source": [
    "final_labelled = final.copy()\n",
    "final_labelled[\"top tier user score\"] = user_score\n",
    "final_labelled = final_labelled.sort_values(\"top tier user score\", ascending = False)\n",
    "final_labelled.head()\n"
   ]
  },
  {
   "cell_type": "markdown",
   "metadata": {},
   "source": [
    "## Model "
   ]
  },
  {
   "cell_type": "code",
   "execution_count": 71,
   "metadata": {},
   "outputs": [],
   "source": [
    "from sklearn.model_selection import train_test_split\n",
    "from sklearn import preprocessing\n",
    "from sklearn.metrics import accuracy_score\n",
    "\n",
    "from sklearn.model_selection import KFold\n",
    "from sklearn.base import clone\n",
    "from sklearn import utils\n",
    "from sklearn.linear_model import LogisticRegression \n",
    "from sklearn.naive_bayes import MultinomialNB\n",
    "from sklearn.linear_model import LinearRegression\n",
    "\n",
    "from sklearn.model_selection import cross_val_score\n",
    "from sklearn.metrics import confusion_matrix"
   ]
  },
  {
   "cell_type": "code",
   "execution_count": null,
   "metadata": {},
   "outputs": [],
   "source": []
  },
  {
   "cell_type": "code",
   "execution_count": 88,
   "metadata": {},
   "outputs": [],
   "source": [
    "x = final_labelled[['complete and mature', 'percentage_total','has metric card','updated past week']] \n",
    "y = final_labelled['top tier user score']"
   ]
  },
  {
   "cell_type": "code",
   "execution_count": 89,
   "metadata": {},
   "outputs": [],
   "source": [
    "X_train, X_test, y_train, y_test = train_test_split(x, y, test_size=0.2, random_state=42)"
   ]
  },
  {
   "cell_type": "code",
   "execution_count": 90,
   "metadata": {},
   "outputs": [],
   "source": [
    "lin_reg = LinearRegression()"
   ]
  },
  {
   "cell_type": "code",
   "execution_count": 91,
   "metadata": {},
   "outputs": [],
   "source": [
    "lin_reg.fit(X_train, y_train)\n",
    "y_pred = lin_reg.predict(X_test)\n"
   ]
  },
  {
   "cell_type": "code",
   "execution_count": 96,
   "metadata": {},
   "outputs": [
    {
     "data": {
      "text/plain": [
       "0.8559156799367971"
      ]
     },
     "execution_count": 96,
     "metadata": {},
     "output_type": "execute_result"
    }
   ],
   "source": [
    "lin_reg.score(X_test, y_test)"
   ]
  },
  {
   "cell_type": "code",
   "execution_count": null,
   "metadata": {},
   "outputs": [],
   "source": []
  },
  {
   "cell_type": "code",
   "execution_count": null,
   "metadata": {},
   "outputs": [],
   "source": []
  },
  {
   "cell_type": "code",
   "execution_count": null,
   "metadata": {},
   "outputs": [],
   "source": []
  },
  {
   "cell_type": "markdown",
   "metadata": {},
   "source": [
    "## Actionable Statements \n",
    "\n",
    "1. % founders with complete profile have higher funds raised? \n",
    "2. % founders with complete profile have higher total views? \n",
    "3. % founders with pitch video, pitch deck, website, linked-in, demo have higher total views? \n",
    "4. % founders with pitch video, pitch deck, website, linked-in, demo have higher funds raised? "
   ]
  },
  {
   "cell_type": "code",
   "execution_count": 480,
   "metadata": {},
   "outputs": [],
   "source": [
    "founders = pd.read_csv(\"data/Week 5/founders.csv\")\n",
    "op_founders = pd.read_csv(\"data/Week 5/onepager_founders.csv\")\n",
    "traction_perf = pd.read_csv(\"data/Week 5/onepager_traction_and_performance.csv\")\n",
    "fundraiser = pd.read_csv(\"data/Week 5/onepager_raises.csv\")\n",
    "#traction_perf_1 = pd.read_csv(\"data/Week 1/onepager_traction_and_performance.csv\")"
   ]
  },
  {
   "cell_type": "markdown",
   "metadata": {},
   "source": [
    "### 1. Founders with complete profile have higher funds raised "
   ]
  },
  {
   "cell_type": "code",
   "execution_count": 481,
   "metadata": {},
   "outputs": [
    {
     "data": {
      "text/plain": [
       "0    0011279a-0c95-4f3d-8ae0-a0916fe54afd\n",
       "1    0014bb20-d843-42f5-8af4-d30de649e1f9\n",
       "2    0026b115-ef03-4a6d-a474-cc6e98672232\n",
       "3    004a3eee-e647-4495-bc42-a7e588acb32d\n",
       "4    004d7015-53dd-4f0d-81f6-a33e53ee537c\n",
       "Name: uuid, dtype: object"
      ]
     },
     "execution_count": 481,
     "metadata": {},
     "output_type": "execute_result"
    }
   ],
   "source": [
    "# founders with complete profiles \n",
    "complete_profiles.head()"
   ]
  },
  {
   "cell_type": "code",
   "execution_count": 510,
   "metadata": {},
   "outputs": [
    {
     "name": "stderr",
     "output_type": "stream",
     "text": [
      "<ipython-input-510-596463b226cb>:9: FutureWarning: The default value of regex will change from True to False in a future version. In addition, single character regular expressions will*not* be treated as literal strings when regex=True.\n",
      "  prof_v_fund[\"raising_amount\"] = prof_v_fund[\"raising_amount\"].str.replace('$','')\n",
      "<ipython-input-510-596463b226cb>:19: FutureWarning: The default value of regex will change from True to False in a future version.\n",
      "  prof_v_fund[\"raising_amount\"] = prof_v_fund[\"raising_amount\"].str.replace('1.5bn','1500000000')\n"
     ]
    },
    {
     "data": {
      "text/html": [
       "<div>\n",
       "<style scoped>\n",
       "    .dataframe tbody tr th:only-of-type {\n",
       "        vertical-align: middle;\n",
       "    }\n",
       "\n",
       "    .dataframe tbody tr th {\n",
       "        vertical-align: top;\n",
       "    }\n",
       "\n",
       "    .dataframe thead th {\n",
       "        text-align: right;\n",
       "    }\n",
       "</style>\n",
       "<table border=\"1\" class=\"dataframe\">\n",
       "  <thead>\n",
       "    <tr style=\"text-align: right;\">\n",
       "      <th></th>\n",
       "      <th>raising_amount</th>\n",
       "    </tr>\n",
       "    <tr>\n",
       "      <th>complete profile</th>\n",
       "      <th></th>\n",
       "    </tr>\n",
       "  </thead>\n",
       "  <tbody>\n",
       "    <tr>\n",
       "      <th>False</th>\n",
       "      <td>6.102941e+06</td>\n",
       "    </tr>\n",
       "    <tr>\n",
       "      <th>True</th>\n",
       "      <td>2.372709e+09</td>\n",
       "    </tr>\n",
       "  </tbody>\n",
       "</table>\n",
       "</div>"
      ],
      "text/plain": [
       "                  raising_amount\n",
       "complete profile                \n",
       "False               6.102941e+06\n",
       "True                2.372709e+09"
      ]
     },
     "execution_count": 510,
     "metadata": {},
     "output_type": "execute_result"
    }
   ],
   "source": [
    "#founder_onepager[\"updated past week\"] = founder_onepager['uuid'].isin(recent_update[\"uuid\"])\n",
    "prof_v_fund = fundraiser[[\"uuid\", \"onepager_uuid\", \"raised_amount\", \"raising_amount\"]]\n",
    "prof_v_fund = pd.merge(prof_v_fund, op_founders, how = \"left\", left_on = \"onepager_uuid\", right_on = \"onepager_uuid\")\n",
    "prof_v_fund[\"complete profile\"] = prof_v_fund[\"founder_uuid\"].isin(complete_profiles)\n",
    "\n",
    "# data cleaning :?? \n",
    "prof_v_fund = prof_v_fund.dropna(subset = [\"raising_amount\"])\n",
    "prof_v_fund[\"raising_amount\"] = prof_v_fund[\"raising_amount\"].str.replace(',','')\n",
    "prof_v_fund[\"raising_amount\"] = prof_v_fund[\"raising_amount\"].str.replace('$','')\n",
    "prof_v_fund[\"raising_amount\"] = prof_v_fund[\"raising_amount\"].str.replace(' ','')\n",
    "prof_v_fund[\"raising_amount\"] = prof_v_fund[\"raising_amount\"].str.replace('M','000000')\n",
    "prof_v_fund[\"raising_amount\"] = prof_v_fund[\"raising_amount\"].str.replace('K','000')\n",
    "prof_v_fund[\"raising_amount\"] = prof_v_fund[\"raising_amount\"].str.replace('k','000')\n",
    "prof_v_fund[\"raising_amount\"] = prof_v_fund[\"raising_amount\"].str.replace('milliondollars','000000')\n",
    "prof_v_fund[\"raising_amount\"] = prof_v_fund[\"raising_amount\"].str.replace('million','000000')\n",
    "prof_v_fund[\"raising_amount\"] = prof_v_fund[\"raising_amount\"].str.replace('-','')\n",
    "prof_v_fund[\"raising_amount\"] = prof_v_fund[\"raising_amount\"].str.replace('USD','')\n",
    "prof_v_fund[\"raising_amount\"] = prof_v_fund[\"raising_amount\"].str.replace('mm','000000')\n",
    "prof_v_fund[\"raising_amount\"] = prof_v_fund[\"raising_amount\"].str.replace('1.5bn','1500000000')\n",
    "prof_v_fund = prof_v_fund[prof_v_fund[\"raising_amount\"] != '']\n",
    "prof_v_fund[\"raising_amount\"] = prof_v_fund[\"raising_amount\"].astype(float)\n",
    "#display(prof_v_fund)\n",
    "\n",
    "actionable_1 = prof_v_fund.groupby(\"onepager_uuid\").first().reset_index() \n",
    "actionable_1 = prof_v_fund.groupby(\"complete profile\").mean()\n",
    "actionable_1\n"
   ]
  },
  {
   "cell_type": "code",
   "execution_count": 511,
   "metadata": {},
   "outputs": [
    {
     "data": {
      "text/plain": [
       "Text(0, 0.5, 'Average fundraiser amount')"
      ]
     },
     "execution_count": 511,
     "metadata": {},
     "output_type": "execute_result"
    },
    {
     "data": {
      "image/png": "[encoded data removed]",
      "text/plain": [
       "<Figure size 432x288 with 1 Axes>"
      ]
     },
     "metadata": {
      "needs_background": "light"
     },
     "output_type": "display_data"
    }
   ],
   "source": [
    "plt.bar([\"False\", \"True\"], actionable_1[\"raising_amount\"])\n",
    "plt.xlabel(\"Complete Profile\")\n",
    "plt.ylabel('Average fundraiser amount')"
   ]
  },
  {
   "cell_type": "code",
   "execution_count": 520,
   "metadata": {},
   "outputs": [
    {
     "name": "stdout",
     "output_type": "stream",
     "text": [
      "Difference in raised amount: 2366605658.404871\n",
      "Completed profile greater by 388.7811911779186 times non-completed profiles\n"
     ]
    }
   ],
   "source": [
    "difference = actionable_1[\"raising_amount\"][1] - actionable_1[\"raising_amount\"][0]\n",
    "print(\"Difference in raised amount:\", difference)\n",
    "times = actionable_1[\"raising_amount\"][1] / actionable_1[\"raising_amount\"][0]\n",
    "print(\"Completed profile greater by\", times, \"times non-completed profiles\")"
   ]
  },
  {
   "cell_type": "markdown",
   "metadata": {},
   "source": [
    "**On average founders who have a completed profile raise over 380 times more funds than those without completed profiles**"
   ]
  },
  {
   "cell_type": "markdown",
   "metadata": {},
   "source": [
    "### 2. Founders with complete profile have higher total views "
   ]
  },
  {
   "cell_type": "code",
   "execution_count": null,
   "metadata": {},
   "outputs": [],
   "source": []
  },
  {
   "cell_type": "code",
   "execution_count": null,
   "metadata": {},
   "outputs": [],
   "source": []
  },
  {
   "cell_type": "code",
   "execution_count": null,
   "metadata": {},
   "outputs": [],
   "source": []
  },
  {
   "cell_type": "code",
   "execution_count": null,
   "metadata": {},
   "outputs": [],
   "source": []
  },
  {
   "cell_type": "code",
   "execution_count": null,
   "metadata": {},
   "outputs": [],
   "source": []
  },
  {
   "cell_type": "code",
   "execution_count": null,
   "metadata": {},
   "outputs": [],
   "source": []
  }
 ],
 "metadata": {
  "kernelspec": {
   "display_name": "Python 3 (ipykernel)",
   "language": "python",
   "name": "python3"
  },
  "language_info": {
   "codemirror_mode": {
    "name": "ipython",
    "version": 3
   },
   "file_extension": ".py",
   "mimetype": "text/x-python",
   "name": "python",
   "nbconvert_exporter": "python",
   "pygments_lexer": "ipython3",
   "version": "3.9.9"
  }
 },
 "nbformat": 4,
 "nbformat_minor": 4
}
